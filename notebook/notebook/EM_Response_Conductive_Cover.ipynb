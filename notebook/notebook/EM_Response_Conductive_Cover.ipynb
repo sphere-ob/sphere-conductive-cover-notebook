{
 "cells": [
  {
   "cell_type": "code",
   "execution_count": 1,
   "metadata": {},
   "outputs": [],
   "source": [
    "%matplotlib inline\n",
    "from JupyterSphere import SphereWidget\n"
   ]
  },
  {
   "cell_type": "markdown",
   "metadata": {},
   "source": [
    "# Sphere-overburden algorithm\n",
    "\n",
    "In this notebook, we will simulate the airborne EM response of a sphere underlying conductive overburden, The solution is calculated using the semi-analytic solution set presented in Desmerais & Smith (2016).\n",
    "\n",
    "\n",
    "For more on the sphere-overburden solution see:\n",
    "\n",
    "- [(Desmarais and Smith., 2016)](https://library.seg.org/doi/10.1190/geo2015-0597.1): Approximate semianalytical solutions for the electromagnetic response of a dipping-sphere interacting with conductive overburden\n"
   ]
  },
  {
   "cell_type": "markdown",
   "metadata": {},
   "source": [
    "##  EM Overview\n",
    "The changing primary field generates electrical currents termed secondary currents in conductive material in the ground. These currents in turn, have an associated secondary magnetic field that propagates out from the conductive body and is measured at or above surface at the receiver producing a secondary field that generally decays with time after the transmitter shut off.\n",
    "\n",
    "This secondary field is measured in intervals termed time windows that are generally numbered from early to late time. The amplitude and decay rate of the secondary field measured at the receiver provides information about contrasting physical properties of the subsurface, this contrast in physical properties allows us to detect conductive bodies at depth and make geological interpretations of the subsurface.\n",
    "\n",
    "\n",
    "<img src=\"https://raw.githubusercontent.com/adzamper/sphere-notebook/main/pycharmnotebook/figures/figure9.PNG\" width=100%>\n",
    "\n",
    "## Model\n",
    "\n",
    "Synthetic model of a sphere underlying conductive overburden showing the electromagnetic parameters and body geometry that you will be changing through the course of this lab.\n",
    "\n",
    "\n",
    "<img src=\"https://raw.githubusercontent.com/adzamper/sphere-notebook/main/pycharmnotebook/figures/figure2.png\" width=75%>\n"
   ]
  },
  {
   "cell_type": "markdown",
   "metadata": {},
   "source": [
    "## Parameters:"
   ]
  },
  {
   "cell_type": "markdown",
   "metadata": {},
   "source": [
    "- $a$: radius of sphere (m)\n",
    "- $\\sigma_{ob}$: overburden conductivity (S/m)\n",
    "- $\\sigma_{sp}$: sphere conductivity (S/m)\n",
    "- $t$: overburden thickness (m)\n",
    "- $d$: depth to center of sphere (m)\n",
    "- $tx_z$: transmitter height above surface (m)\n",
    "- $dip$: dip of sphere\n",
    "\n"
   ]
  },
  {
   "cell_type": "code",
   "execution_count": 2,
   "metadata": {},
   "outputs": [
    {
     "data": {
      "text/plain": "interactive(children=(FloatSlider(value=100.0, continuous_update=False, description='$a$', max=300.0, min=1.0,…",
      "application/vnd.jupyter.widget-view+json": {
       "version_major": 2,
       "version_minor": 0,
       "model_id": "93204ae088ef4e69b932e8fa4817626f"
      }
     },
     "metadata": {},
     "output_type": "display_data"
    },
    {
     "data": {
      "text/plain": "<function JupyterSphere.sphereresponse(aw, sigob, sigsp, thickob, depth, txheight, dipw)>"
     },
     "execution_count": 2,
     "metadata": {},
     "output_type": "execute_result"
    }
   ],
   "source": [
    "SphereWidget()"
   ]
  },
  {
   "cell_type": "code",
   "execution_count": 2,
   "metadata": {},
   "outputs": [],
   "source": []
  }
 ],
 "metadata": {
  "anaconda-cloud": {},
  "kernelspec": {
   "display_name": "Python 3",
   "language": "python",
   "name": "python3"
  },
  "language_info": {
   "codemirror_mode": {
    "name": "ipython",
    "version": 3
   },
   "file_extension": ".py",
   "mimetype": "text/x-python",
   "name": "python",
   "nbconvert_exporter": "python",
   "pygments_lexer": "ipython3",
   "version": "3.8.5"
  },
  "widgets": {
   "state": {
    "234b50583b3246edb24ab70aee35c4e4": {
     "views": [
      {
       "cell_index": 5
      }
     ]
    }
   },
   "version": "1.2.0"
  }
 },
 "nbformat": 4,
 "nbformat_minor": 1
}